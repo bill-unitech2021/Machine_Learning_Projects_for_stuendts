{
 "cells": [
  {
   "cell_type": "code",
   "execution_count": 1,
   "metadata": {},
   "outputs": [
    {
     "name": "stdout",
     "output_type": "stream",
     "text": [
      "Welcome to Machine Learning!\n"
     ]
    }
   ],
   "source": [
    "print(\"Welcome to Machine Learning!\")"
   ]
  },
  {
   "cell_type": "code",
   "execution_count": 3,
   "metadata": {},
   "outputs": [],
   "source": [
    "# This project requires Python 3.7 or above:\n",
    "\n",
    "import sys\n",
    "\n",
    "assert sys.version_info >= (3, 7)"
   ]
  },
  {
   "cell_type": "code",
   "execution_count": 5,
   "metadata": {},
   "outputs": [],
   "source": [
    "# It also requires Scikit-Learn ≥ 1.0.1:\n",
    "\n",
    "from packaging import version\n",
    "import sklearn\n",
    "\n",
    "assert version.parse(sklearn.__version__) >= version.parse(\"1.0.1\")"
   ]
  },
  {
   "cell_type": "markdown",
   "metadata": {},
   "source": [
    "### Get the Data\n",
    "- Welcome to Machine Learning Housing Corp.! \n",
    "- Your task is to predict median house values in Californian districts, given a number of features from these districts."
   ]
  },
  {
   "cell_type": "markdown",
   "metadata": {},
   "source": [
    "### Download the Data"
   ]
  },
  {
   "cell_type": "code",
   "execution_count": 7,
   "metadata": {},
   "outputs": [],
   "source": [
    "from pathlib import Path\n",
    "import pandas as pd\n",
    "import tarfile\n",
    "import urllib.request\n",
    "\n",
    "def load_housing_data():\n",
    "    tarball_path = Path(\"datasets/housing.tgz\")\n",
    "    if not tarball_path.is_file():\n",
    "        Path(\"datasets\").mkdir(parents=True, exist_ok=True)\n",
    "        url = \"https://github.com/ageron/data/raw/main/housing.tgz\"\n",
    "        urllib.request.urlretrieve(url, tarball_path)\n",
    "        with tarfile.open(tarball_path) as housing_tarball:\n",
    "            housing_tarball.extractall(path=\"datasets\")\n",
    "    return pd.read_csv(Path(\"datasets/housing/housing.csv\"))\n",
    "\n",
    "housing = load_housing_data()"
   ]
  },
  {
   "cell_type": "markdown",
   "metadata": {},
   "source": [
    "这段代码定义了一个名为 `load_housing_data` 的函数，旨在从一个在线源下载和提取一个名为 `housing.tgz` 的数据集，并最终以 Pandas DataFrame 的形式加载这个数据集。下面是详细解释：\n",
    "\n",
    "1. **定义函数**:\n",
    "   ```python\n",
    "   def load_housing_data():\n",
    "   ```\n",
    "   这行代码定义了一个名为 `load_housing_data` 的函数，它不接受任何参数。\n",
    "\n",
    "2. **设置压缩文件的路径**:\n",
    "   ```python\n",
    "   tarball_path = Path(\"datasets/housing.tgz\")\n",
    "   ```\n",
    "   使用 `Path` 类（来自 Python 的 `pathlib` 模块）来创建一个 `Path` 对象，这个对象指向名为 `housing.tgz` 的文件。这个文件预期存放在 `datasets` 目录中。\n",
    "\n",
    "3. **检查文件是否存在**:\n",
    "   ```python\n",
    "   if not tarball_path.is_file():\n",
    "   ```\n",
    "   如果 `housing.tgz` 文件不存在，以下代码块将被执行。\n",
    "\n",
    "4. **创建目录**:\n",
    "   ```python\n",
    "   Path(\"datasets\").mkdir(parents=True, exist_ok=True)\n",
    "   ```\n",
    "   如果 `datasets` 目录不存在，这行代码将创建它。`parents=True` 表示如果需要，将创建父目录；`exist_ok=True` 意味着如果目录已经存在，不会引发错误。\n",
    "\n",
    "5. **下载数据集**:\n",
    "   ```python\n",
    "   url = \"https://github.com/ageron/data/raw/main/housing.tgz\"\n",
    "   urllib.request.urlretrieve(url, tarball_path)\n",
    "   ```\n",
    "   从给定的 URL 下载 `housing.tgz` 文件，并将其保存在先前定义的 `tarball_path`。\n",
    "\n",
    "6. **解压数据集**:\n",
    "   ```python\n",
    "   with tarfile.open(tarball_path) as housing_tarball:\n",
    "       housing_tarball.extractall(path=\"datasets\")\n",
    "   ```\n",
    "   使用 `tarfile` 模块打开下载的 `.tgz` 文件，并将其内容解压到 `datasets` 目录中。\n",
    "\n",
    "7. **加载并返回数据**:\n",
    "   ```python\n",
    "   return pd.read_csv(Path(\"datasets/housing/housing.csv\"))\n",
    "   ```\n",
    "   最后，函数使用 Pandas 的 `read_csv` 方法加载解压后的 `housing.csv` 文件，并返回这个文件的内容作为一个 DataFrame。这个 CSV 文件预期包含房屋数据集的数据。\n",
    "\n",
    "总的来说，这个函数处理从在线源下载、解压并加载房屋数据集的整个流程，使得用户可以直接以 DataFrame 的形式使用这些数据。"
   ]
  },
  {
   "cell_type": "code",
   "execution_count": null,
   "metadata": {},
   "outputs": [],
   "source": []
  },
  {
   "cell_type": "code",
   "execution_count": null,
   "metadata": {},
   "outputs": [],
   "source": []
  },
  {
   "cell_type": "code",
   "execution_count": null,
   "metadata": {},
   "outputs": [],
   "source": []
  }
 ],
 "metadata": {
  "kernelspec": {
   "display_name": "ml_env",
   "language": "python",
   "name": "python3"
  },
  "language_info": {
   "codemirror_mode": {
    "name": "ipython",
    "version": 3
   },
   "file_extension": ".py",
   "mimetype": "text/x-python",
   "name": "python",
   "nbconvert_exporter": "python",
   "pygments_lexer": "ipython3",
   "version": "3.12.0"
  }
 },
 "nbformat": 4,
 "nbformat_minor": 2
}
