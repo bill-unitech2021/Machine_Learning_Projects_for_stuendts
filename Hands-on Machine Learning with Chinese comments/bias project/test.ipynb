{
 "cells": [
  {
   "cell_type": "code",
   "execution_count": 2,
   "metadata": {},
   "outputs": [],
   "source": [
    "import pandas as pd"
   ]
  },
  {
   "cell_type": "code",
   "execution_count": 3,
   "metadata": {},
   "outputs": [
    {
     "data": {
      "text/plain": [
       "(4012, 10)"
      ]
     },
     "execution_count": 3,
     "metadata": {},
     "output_type": "execute_result"
    }
   ],
   "source": [
    "df = pd.read_csv('Bias_dataset_with_5_sggestions.csv')\n",
    "df.shape"
   ]
  },
  {
   "cell_type": "code",
   "execution_count": 4,
   "metadata": {},
   "outputs": [
    {
     "data": {
      "text/html": [
       "<div>\n",
       "<style scoped>\n",
       "    .dataframe tbody tr th:only-of-type {\n",
       "        vertical-align: middle;\n",
       "    }\n",
       "\n",
       "    .dataframe tbody tr th {\n",
       "        vertical-align: top;\n",
       "    }\n",
       "\n",
       "    .dataframe thead th {\n",
       "        text-align: right;\n",
       "    }\n",
       "</style>\n",
       "<table border=\"1\" class=\"dataframe\">\n",
       "  <thead>\n",
       "    <tr style=\"text-align: right;\">\n",
       "      <th></th>\n",
       "      <th>word_labels</th>\n",
       "      <th>sentence</th>\n",
       "      <th>biased_words</th>\n",
       "      <th>biased_labels</th>\n",
       "      <th>masked_sentence</th>\n",
       "      <th>unmasked_words_score_1</th>\n",
       "      <th>unmasked_words_score_2</th>\n",
       "      <th>unmasked_words_score_3</th>\n",
       "      <th>unmasked_words_score_4</th>\n",
       "      <th>unmasked_words_score_5</th>\n",
       "    </tr>\n",
       "  </thead>\n",
       "  <tbody>\n",
       "    <tr>\n",
       "      <th>0</th>\n",
       "      <td>O,O,O,O,Behavioural Stereotypes,O,O,O,O,O,O,O,...</td>\n",
       "      <td>The incumbent should be committed personwith s...</td>\n",
       "      <td>committed</td>\n",
       "      <td>Behavioural Stereotypes</td>\n",
       "      <td>The incumbent should be [MASK] personwith stro...</td>\n",
       "      <td>a</td>\n",
       "      <td>the</td>\n",
       "      <td>one</td>\n",
       "      <td>any</td>\n",
       "      <td>that</td>\n",
       "    </tr>\n",
       "    <tr>\n",
       "      <th>1</th>\n",
       "      <td>O,O,O,O,O,O,Behavioural Stereotypes,O,O,O,O,O,...</td>\n",
       "      <td>Knowledge of English is aplus;- Coordination, ...</td>\n",
       "      <td>interpersonal,</td>\n",
       "      <td>Behavioural Stereotypes</td>\n",
       "      <td>Knowledge of English is aplus;- Coordination, ...</td>\n",
       "      <td>good</td>\n",
       "      <td>effective</td>\n",
       "      <td>social</td>\n",
       "      <td>excellent</td>\n",
       "      <td>visual</td>\n",
       "    </tr>\n",
       "    <tr>\n",
       "      <th>2</th>\n",
       "      <td>O,O,O,O,O,O,O,O,O,O,O,O,O,O,O,O,O</td>\n",
       "      <td>A full time (or part timesee following sentenc...</td>\n",
       "      <td>NaN</td>\n",
       "      <td>NaN</td>\n",
       "      <td>A full time (or part timesee following sentenc...</td>\n",
       "      <td>No MASK</td>\n",
       "      <td>No MASK</td>\n",
       "      <td>No MASK</td>\n",
       "      <td>No MASK</td>\n",
       "      <td>No MASK</td>\n",
       "    </tr>\n",
       "    <tr>\n",
       "      <th>3</th>\n",
       "      <td>O,O,O,O,O,O,O,Behavioural Stereotypes,O,O,O,O,...</td>\n",
       "      <td>You should have good communication, organisati...</td>\n",
       "      <td>interpersonal</td>\n",
       "      <td>Behavioural Stereotypes</td>\n",
       "      <td>You should have good communication, organisati...</td>\n",
       "      <td>communication</td>\n",
       "      <td>leadership</td>\n",
       "      <td>administrative</td>\n",
       "      <td>management</td>\n",
       "      <td>managerial</td>\n",
       "    </tr>\n",
       "    <tr>\n",
       "      <th>4</th>\n",
       "      <td>O,O,O,Behavioural Stereotypes,Behavioural Ster...</td>\n",
       "      <td>They require a confident, well groomed and art...</td>\n",
       "      <td>confident, well groomed</td>\n",
       "      <td>Behavioural Stereotypes, Behavioural Stereotyp...</td>\n",
       "      <td>They require a [MASK] [MASK] [MASK] and articu...</td>\n",
       "      <td>very, ,, minded</td>\n",
       "      <td>highly, and, ,</td>\n",
       "      <td>strong, -, motivated</td>\n",
       "      <td>more, ##ly, focused</td>\n",
       "      <td>truly, ##ally, creative</td>\n",
       "    </tr>\n",
       "  </tbody>\n",
       "</table>\n",
       "</div>"
      ],
      "text/plain": [
       "                                         word_labels  \\\n",
       "0  O,O,O,O,Behavioural Stereotypes,O,O,O,O,O,O,O,...   \n",
       "1  O,O,O,O,O,O,Behavioural Stereotypes,O,O,O,O,O,...   \n",
       "2                  O,O,O,O,O,O,O,O,O,O,O,O,O,O,O,O,O   \n",
       "3  O,O,O,O,O,O,O,Behavioural Stereotypes,O,O,O,O,...   \n",
       "4  O,O,O,Behavioural Stereotypes,Behavioural Ster...   \n",
       "\n",
       "                                            sentence             biased_words  \\\n",
       "0  The incumbent should be committed personwith s...                committed   \n",
       "1  Knowledge of English is aplus;- Coordination, ...           interpersonal,   \n",
       "2  A full time (or part timesee following sentenc...                      NaN   \n",
       "3  You should have good communication, organisati...            interpersonal   \n",
       "4  They require a confident, well groomed and art...  confident, well groomed   \n",
       "\n",
       "                                       biased_labels  \\\n",
       "0                            Behavioural Stereotypes   \n",
       "1                            Behavioural Stereotypes   \n",
       "2                                                NaN   \n",
       "3                            Behavioural Stereotypes   \n",
       "4  Behavioural Stereotypes, Behavioural Stereotyp...   \n",
       "\n",
       "                                     masked_sentence unmasked_words_score_1  \\\n",
       "0  The incumbent should be [MASK] personwith stro...                      a   \n",
       "1  Knowledge of English is aplus;- Coordination, ...                   good   \n",
       "2  A full time (or part timesee following sentenc...                No MASK   \n",
       "3  You should have good communication, organisati...          communication   \n",
       "4  They require a [MASK] [MASK] [MASK] and articu...        very, ,, minded   \n",
       "\n",
       "  unmasked_words_score_2 unmasked_words_score_3 unmasked_words_score_4  \\\n",
       "0                    the                    one                    any   \n",
       "1              effective                 social              excellent   \n",
       "2                No MASK                No MASK                No MASK   \n",
       "3             leadership         administrative             management   \n",
       "4         highly, and, ,   strong, -, motivated    more, ##ly, focused   \n",
       "\n",
       "    unmasked_words_score_5  \n",
       "0                     that  \n",
       "1                   visual  \n",
       "2                  No MASK  \n",
       "3               managerial  \n",
       "4  truly, ##ally, creative  "
      ]
     },
     "execution_count": 4,
     "metadata": {},
     "output_type": "execute_result"
    }
   ],
   "source": [
    "df.head()"
   ]
  },
  {
   "cell_type": "code",
   "execution_count": 5,
   "metadata": {},
   "outputs": [
    {
     "data": {
      "text/plain": [
       "Index(['word_labels', 'sentence', 'biased_words', 'biased_labels',\n",
       "       'masked_sentence', 'unmasked_words_score_1', 'unmasked_words_score_2',\n",
       "       'unmasked_words_score_3', 'unmasked_words_score_4',\n",
       "       'unmasked_words_score_5'],\n",
       "      dtype='object')"
      ]
     },
     "execution_count": 5,
     "metadata": {},
     "output_type": "execute_result"
    }
   ],
   "source": [
    "df.columns"
   ]
  },
  {
   "cell_type": "code",
   "execution_count": null,
   "metadata": {},
   "outputs": [],
   "source": []
  }
 ],
 "metadata": {
  "kernelspec": {
   "display_name": "Python 3",
   "language": "python",
   "name": "python3"
  },
  "language_info": {
   "codemirror_mode": {
    "name": "ipython",
    "version": 3
   },
   "file_extension": ".py",
   "mimetype": "text/x-python",
   "name": "python",
   "nbconvert_exporter": "python",
   "pygments_lexer": "ipython3",
   "version": "3.10.8"
  }
 },
 "nbformat": 4,
 "nbformat_minor": 2
}
